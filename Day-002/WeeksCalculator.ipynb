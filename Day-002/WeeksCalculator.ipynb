{
 "cells": [
  {
   "cell_type": "code",
   "execution_count": 2,
   "metadata": {},
   "outputs": [
    {
     "name": "stdout",
     "output_type": "stream",
     "text": [
      "This Calculator Calculates how much week we have left if we would live for 90 years\n",
      "Enter Your Age!19\n",
      "you've 71 years, 852 months, 3692 weeks, 25915 days left, so have a life!!!\n"
     ]
    }
   ],
   "source": [
    "print(\"This Calculator Calculates how much week we have left if we would live for 90 years\")\n",
    "age = int(input(\"Enter Your Age!\"))\n",
    "\n",
    "weeks_left = (90-age)*52\n",
    "days_left = (90-age)*365\n",
    "months_left = (90-age)*12\n",
    "years_left = (90-age)\n",
    "\n",
    "print(f\"you've {years_left} years, {months_left} months, {weeks_left} weeks, {days_left} days left, so have a life!!!\")"
   ]
  },
  {
   "cell_type": "code",
   "execution_count": null,
   "metadata": {},
   "outputs": [],
   "source": []
  }
 ],
 "metadata": {
  "kernelspec": {
   "display_name": "Python 3",
   "language": "python",
   "name": "python3"
  },
  "language_info": {
   "codemirror_mode": {
    "name": "ipython",
    "version": 3
   },
   "file_extension": ".py",
   "mimetype": "text/x-python",
   "name": "python",
   "nbconvert_exporter": "python",
   "pygments_lexer": "ipython3",
   "version": "3.8.3"
  }
 },
 "nbformat": 4,
 "nbformat_minor": 4
}
