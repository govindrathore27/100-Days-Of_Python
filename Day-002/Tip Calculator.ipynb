{
 "cells": [
  {
   "cell_type": "code",
   "execution_count": 1,
   "metadata": {},
   "outputs": [
    {
     "name": "stdout",
     "output_type": "stream",
     "text": [
      "Welcome! To the Tip Calculator\n",
      "What was the bill total?150\n",
      "How many people do want to split the bill?5\n",
      "What percentage of tip you wanna give?12\n",
      "Each person should pay: 33.6\n"
     ]
    }
   ],
   "source": [
    "#If the bill was $150.00, split between 5 people, with 12% tip. \n",
    "#Each person should pay (150.00 / 5) * 1.12 = 33.6\n",
    "#Format the result to 2 decimal places = 33.60\n",
    "#Tip: You might need to do some research in Google to figure out how to do this.\n",
    "print(\"Welcome! To the Tip Calculator\")\n",
    "bill = float(input(\"What was the bill total?\"))\n",
    "no_of_people = int(input(\"How many people do want to split the bill?\"))\n",
    "tip = float(input(\"What percentage of tip you wanna give?\"))\n",
    "final_share = (bill/no_of_people)*(1 + (tip/100))\n",
    "print(\"Each person should pay: \" + str(final_share))"
   ]
  },
  {
   "cell_type": "code",
   "execution_count": null,
   "metadata": {},
   "outputs": [],
   "source": []
  }
 ],
 "metadata": {
  "kernelspec": {
   "display_name": "Python 3",
   "language": "python",
   "name": "python3"
  },
  "language_info": {
   "codemirror_mode": {
    "name": "ipython",
    "version": 3
   },
   "file_extension": ".py",
   "mimetype": "text/x-python",
   "name": "python",
   "nbconvert_exporter": "python",
   "pygments_lexer": "ipython3",
   "version": "3.7.3"
  }
 },
 "nbformat": 4,
 "nbformat_minor": 4
}
