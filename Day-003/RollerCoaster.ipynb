{
 "cells": [
  {
   "cell_type": "code",
   "execution_count": 2,
   "metadata": {},
   "outputs": [
    {
     "name": "stdout",
     "output_type": "stream",
     "text": [
      "Enter the height!196\n",
      "Enter your age19\n",
      "Adult tickets are 12$!\n",
      "Do you want a photo, press Y or N!Y\n",
      "please pay 15\n"
     ]
    }
   ],
   "source": [
    "num = int(input(\"Enter the height!\"))\n",
    "bill=0\n",
    "if num>120:\n",
    "    age = int(input(\"Enter your age\"))\n",
    "    if age<12:\n",
    "        print(\"Child tickets are 5$!\")\n",
    "        bill=5\n",
    "    elif age>12 and age<=18:\n",
    "        print(\"Youth tickets are 7$!\")\n",
    "        bill=7\n",
    "    elif age >18:\n",
    "        print(\"Adult tickets are 12$!\")\n",
    "        bill=12\n",
    "    photo=input(\"Do you want a photo, press Y or N!\")\n",
    "    if photo==\"Y\":\n",
    "        print(f\"please pay {bill+3}\")\n",
    "    else:\n",
    "        print(f\"please pay {bill}\")\n",
    "else:\n",
    "    print(f\"{num} is odd\")"
   ]
  },
  {
   "cell_type": "code",
   "execution_count": null,
   "metadata": {},
   "outputs": [],
   "source": []
  }
 ],
 "metadata": {
  "kernelspec": {
   "display_name": "Python 3",
   "language": "python",
   "name": "python3"
  },
  "language_info": {
   "codemirror_mode": {
    "name": "ipython",
    "version": 3
   },
   "file_extension": ".py",
   "mimetype": "text/x-python",
   "name": "python",
   "nbconvert_exporter": "python",
   "pygments_lexer": "ipython3",
   "version": "3.8.3"
  }
 },
 "nbformat": 4,
 "nbformat_minor": 4
}
