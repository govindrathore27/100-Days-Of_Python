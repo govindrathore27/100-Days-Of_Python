{
 "cells": [
  {
   "cell_type": "code",
   "execution_count": 5,
   "metadata": {},
   "outputs": [
    {
     "name": "stdout",
     "output_type": "stream",
     "text": [
      "Welcome to the Love Calculator!\n",
      "What is your name? \n",
      "vishwas devnani\n",
      "What is their name? \n",
      "ritika thakur\n",
      "Your score is 63.\n"
     ]
    }
   ],
   "source": [
    "print(\"Welcome to the Love Calculator!\")\n",
    "name1 = input(\"What is your name? \\n\")\n",
    "name2 = input(\"What is their name? \\n\")\n",
    "\n",
    "\n",
    "name_check = name1.lower() + name2.lower()\n",
    "true = sum(map(name_check.count, ['t','r','u','e']))\n",
    "love = sum(map(name_check.count, ['l','o','v','e']))\n",
    "true_love_digit = int(str(true) + str(love))\n",
    "\n",
    "if (true_love_digit < 10) or (true_love_digit > 90):\n",
    "    result = \", you go together like coke and mentos.\"\n",
    "elif (true_love_digit >= 40) and (true_love_digit <= 50):\n",
    "    result = \", you are alright together.\"\n",
    "else:\n",
    "    result = \".\"\n",
    "\n",
    "print(f\"Your score is {true_love_digit}{result}\")\n"
   ]
  },
  {
   "cell_type": "code",
   "execution_count": null,
   "metadata": {},
   "outputs": [],
   "source": []
  },
  {
   "cell_type": "code",
   "execution_count": null,
   "metadata": {},
   "outputs": [],
   "source": []
  }
 ],
 "metadata": {
  "kernelspec": {
   "display_name": "Python 3",
   "language": "python",
   "name": "python3"
  },
  "language_info": {
   "codemirror_mode": {
    "name": "ipython",
    "version": 3
   },
   "file_extension": ".py",
   "mimetype": "text/x-python",
   "name": "python",
   "nbconvert_exporter": "python",
   "pygments_lexer": "ipython3",
   "version": "3.8.3"
  }
 },
 "nbformat": 4,
 "nbformat_minor": 4
}
