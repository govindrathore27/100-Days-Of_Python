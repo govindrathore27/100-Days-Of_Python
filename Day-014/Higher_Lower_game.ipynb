{
 "cells": [
  {
   "cell_type": "code",
   "execution_count": null,
   "metadata": {},
   "outputs": [],
   "source": [
    "from art_Higher_Lower import logo,vs\n",
    "from game_data_higher_lower import data\n",
    "import random\n",
    "def get_Account():\n",
    "    '''\n",
    "    Function to get random account.\n",
    "    '''\n",
    "    return random.choice(data)\n",
    "\n",
    "def format_Account(account_data):\n",
    "    '''\n",
    "    Function to fomat the account information in the desired format.\n",
    "    '''\n",
    "    name = account_data['name']\n",
    "    desc = account_data['description']\n",
    "    country = account_data['country']\n",
    "    return f\"{name} , a {desc} , from {country}\"\n",
    "def check_Winner(guess,a_follower,b_follower):\n",
    "    '''\n",
    "    Function to check who has more follower count.\n",
    "    '''\n",
    "    if a_follower>b_follower:\n",
    "        return guess.lower() == 'a'\n",
    "    else:\n",
    "        return guess.lower() == 'b'\n",
    "def game():\n",
    "    '''\n",
    "    Function which represents the whole game of higher or lower.\n",
    "    Uses all the previously built functions to perform various operations.\n",
    "    '''\n",
    "    print(logo)\n",
    "    score=0\n",
    "    should_game_continue = True\n",
    "    A_option = get_Account()\n",
    "    B_option = get_Account()\n",
    "    while should_game_continue:\n",
    "        A_option = B_option\n",
    "        B_option = get_Account()\n",
    "        while A_option == B_option:\n",
    "            B_option = get_Account()\n",
    "        print(f\"Compare A : {format_Account(A_option)}\")\n",
    "        print(vs)\n",
    "        print(f\"Compare B: {format_Account(B_option)}\")\n",
    "        guess = input(\"Who has more follwers??? Type 'A' or 'B':\\n\")\n",
    "        a_follower_count = A_option['follower_count']\n",
    "        b_follower_count = B_option['follower_count']\n",
    "        is_correct = check_Winner(guess,a_follower_count,b_follower_count)\n",
    "        if is_correct:\n",
    "            score+=1\n",
    "            print(f\"You're right! Current score: {score}.\")\n",
    "        else:\n",
    "            should_game_continue = False\n",
    "            print(f\"Sorry, that's wrong. Final score: {score}\")\n",
    "\n",
    "game()\n",
    "\n"
   ]
  }
 ],
 "metadata": {
  "kernelspec": {
   "display_name": "Python 3",
   "language": "python",
   "name": "python3"
  },
  "language_info": {
   "codemirror_mode": {
    "name": "ipython",
    "version": 3
   },
   "file_extension": ".py",
   "mimetype": "text/x-python",
   "name": "python",
   "nbconvert_exporter": "python",
   "pygments_lexer": "ipython3",
   "version": "3.7.3"
  }
 },
 "nbformat": 4,
 "nbformat_minor": 4
}
