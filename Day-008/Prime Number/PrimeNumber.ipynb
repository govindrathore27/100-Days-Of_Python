{
 "cells": [
  {
   "cell_type": "code",
   "execution_count": null,
   "metadata": {},
   "outputs": [],
   "source": [
    "import math\n",
    "def prime_checker(number):\n",
    "    f = 0\n",
    "    # flag to check when to break the loop\n",
    "    for i in range(2,round(math.sqrt(number))):\n",
    "        if number % i == 0 :\n",
    "            #if the condition is satisfied then it simply means that number is not prime hence break out of loop\n",
    "            f = 1\n",
    "            break\n",
    "    if f != 0:\n",
    "        print(\"Non -prime\")\n",
    "    else:\n",
    "        print(\"Prime\")\n",
    "n = int(input(\"Check this number: \"))\n",
    "prime_checker(number=n)\n"
   ]
  }
 ],
 "metadata": {
  "kernelspec": {
   "display_name": "Python 3",
   "language": "python",
   "name": "python3"
  },
  "language_info": {
   "codemirror_mode": {
    "name": "ipython",
    "version": 3
   },
   "file_extension": ".py",
   "mimetype": "text/x-python",
   "name": "python",
   "nbconvert_exporter": "python",
   "pygments_lexer": "ipython3",
   "version": "3.7.3"
  }
 },
 "nbformat": 4,
 "nbformat_minor": 4
}
