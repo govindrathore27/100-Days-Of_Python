{
 "cells": [
  {
   "cell_type": "code",
   "execution_count": 1,
   "metadata": {},
   "outputs": [
    {
     "name": "stdout",
     "output_type": "stream",
     "text": [
      "Input a list of student heights 180, 124, 165, 173, 189, 169, 146\n",
      "average height = 164\n"
     ]
    }
   ],
   "source": [
    "student_heights = input(\"Input a list of student heights \").split(\", \")\n",
    "num_of_students=0\n",
    "sum_of_heights=0\n",
    "for n in range(0, len(student_heights)):\n",
    "    sum_of_heights += int(student_heights[n])\n",
    "    num_of_students += 1\n",
    "print(f\"average height = { round( sum_of_heights/num_of_students ) }\")\n",
    "    \n",
    "    \n",
    "\n",
    "\n",
    "\n",
    "\n"
   ]
  },
  {
   "cell_type": "markdown",
   "metadata": {},
   "source": [
    "## other method using built-in methods"
   ]
  },
  {
   "cell_type": "code",
   "execution_count": 2,
   "metadata": {},
   "outputs": [
    {
     "data": {
      "text/plain": [
       "164"
      ]
     },
     "execution_count": 2,
     "metadata": {},
     "output_type": "execute_result"
    }
   ],
   "source": [
    "heights=[180, 124, 165, 173, 189, 169, 146]\n",
    "round( sum(heights) / len(heights) )"
   ]
  },
  {
   "cell_type": "code",
   "execution_count": null,
   "metadata": {},
   "outputs": [],
   "source": []
  }
 ],
 "metadata": {
  "kernelspec": {
   "display_name": "Python 3",
   "language": "python",
   "name": "python3"
  },
  "language_info": {
   "codemirror_mode": {
    "name": "ipython",
    "version": 3
   },
   "file_extension": ".py",
   "mimetype": "text/x-python",
   "name": "python",
   "nbconvert_exporter": "python",
   "pygments_lexer": "ipython3",
   "version": "3.8.3"
  }
 },
 "nbformat": 4,
 "nbformat_minor": 4
}
