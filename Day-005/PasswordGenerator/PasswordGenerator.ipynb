{
 "cells": [
  {
   "cell_type": "code",
   "execution_count": 9,
   "metadata": {},
   "outputs": [
    {
     "name": "stdout",
     "output_type": "stream",
     "text": [
      "Welcome to the PyPassword Generator!\n",
      "How many letters would you like in your password?\n",
      "12\n",
      "How many symbols would you like?\n",
      "3\n",
      "How many numbers would you like?\n",
      "1\n",
      "password: bmmEeXfkDNbw($!262\n",
      "hard_password: ti8i8eaK+p3B$mW+fh\n"
     ]
    }
   ],
   "source": [
    "#Password Generator Project\n",
    "import random\n",
    "letters = ['a', 'b', 'c', 'd', 'e', 'f', 'g', 'h', 'i', 'j', 'k', 'l', 'm', 'n', 'o', 'p', 'q', 'r', 's', 't', 'u', 'v', 'w', 'x', 'y', 'z', 'A', 'B', 'C', 'D', 'E', 'F', 'G', 'H', 'I', 'J', 'K', 'L', 'M', 'N', 'O', 'P', 'Q', 'R', 'S', 'T', 'U', 'V', 'W', 'X', 'Y', 'Z']\n",
    "numbers = ['0', '1', '2', '3', '4', '5', '6', '7', '8', '9']\n",
    "symbols = ['!', '#', '$', '%', '&', '(', ')', '*', '+']\n",
    "\n",
    "print(\"Welcome to the PyPassword Generator!\")\n",
    "nr_letters= int(input(\"How many letters would you like in your password?\\n\")) \n",
    "nr_symbols = int(input(f\"How many symbols would you like?\\n\"))\n",
    "nr_numbers = int(input(f\"How many numbers would you like?\\n\"))\n",
    "\n",
    "#Eazy Level - Order not randomised:\n",
    "#e.g. 4 letter, 2 symbol, 2 number = JduE&!91\n",
    "password=''\n",
    "for i in range(0,nr_letters):\n",
    "    password += random.choice(letters)\n",
    "for i in range(0,nr_symbols):\n",
    "    password += str(random.choice(symbols))\n",
    "\n",
    "for i in range(0,nr_symbols):\n",
    "    password += str(random.choice(numbers))\n",
    "print(\"password: \" + password)\n",
    "#Hard Level - Order of characters randomised:\n",
    "#e.g. 4 letter, 2 symbol, 2 number = g^2jk8&P\n",
    "# Creating a list to cont\n",
    "password_list =[]\n",
    "for i in range(0,nr_letters):\n",
    "    password_list.append(random.choice(letters))\n",
    "for i in range(0,nr_symbols):\n",
    "    password_list.append(str(random.choice(symbols)))\n",
    "for i in range(0,nr_symbols):\n",
    "    password_list.append(str(random.choice(numbers)))\n",
    "random.shuffle(password_list)\n",
    "# Joining the shuffled password\n",
    "hard_password = ''.join(password_list)\n",
    "print(\"hard_password: \" + hard_password)"
   ]
  },
  {
   "cell_type": "code",
   "execution_count": null,
   "metadata": {},
   "outputs": [],
   "source": []
  }
 ],
 "metadata": {
  "kernelspec": {
   "display_name": "Python 3",
   "language": "python",
   "name": "python3"
  },
  "language_info": {
   "codemirror_mode": {
    "name": "ipython",
    "version": 3
   },
   "file_extension": ".py",
   "mimetype": "text/x-python",
   "name": "python",
   "nbconvert_exporter": "python",
   "pygments_lexer": "ipython3",
   "version": "3.7.3"
  }
 },
 "nbformat": 4,
 "nbformat_minor": 4
}
