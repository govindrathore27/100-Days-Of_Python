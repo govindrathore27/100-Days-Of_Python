{
 "cells": [
  {
   "cell_type": "code",
   "execution_count": null,
   "metadata": {},
   "outputs": [],
   "source": [
    "from art_Calculator import logo\n",
    "\n",
    "#Addition\n",
    "def add(n1,n2):\n",
    "    return n1 + n2\n",
    "\n",
    "# Subtraction\n",
    "def subtract(n1,n2):\n",
    "    return n1 - n2\n",
    "\n",
    "# Multiplication\n",
    "def multiply(n1,n2):\n",
    "    return n1 * n2\n",
    "\n",
    "# Division\n",
    "def divide(n1,n2):\n",
    "    return n1 / n2\n",
    "\n",
    "# Symbols \n",
    "operations = {\n",
    "    \"+\":add,\n",
    "    \"-\":subtract,\n",
    "    \"*\":multiply,\n",
    "    \"/\": divide\n",
    "}\n",
    "\n",
    "\n",
    "def calculator():\n",
    "    print(logo)\n",
    "\n",
    "    num1 = float(input(\"What's the first number??\\n\"))\n",
    "\n",
    "    for i in operations:\n",
    "        print(i)\n",
    "    should_continue = True\n",
    "    while should_continue:\n",
    "        operation_symbol = input(\"Choose which operation to perform.\")\n",
    "        num2 = float(input(\"What is the second number??\\n\"))\n",
    "        calculation_function = operations[operation_symbol]\n",
    "        answer = calculation_function(num1,num2)\n",
    "        print(f\"{num1} {operation_symbol} {num2} = {answer}\")\n",
    "        stay = input(f\"Type 'y' to continue calculating with {answer}, or type 'n' to start a new calculation or enter 'Quit' to exit: \")\n",
    "        if stay == 'y':\n",
    "            num1 = answer\n",
    "        elif stay == 'n' :\n",
    "            should_continue = False\n",
    "            calculator()\n",
    "        else:\n",
    "            break\n",
    "calculator()\n",
    "print(\"See,you next time!!\")\n"
   ]
  },
  {
   "cell_type": "code",
   "execution_count": null,
   "metadata": {},
   "outputs": [],
   "source": []
  }
 ],
 "metadata": {
  "kernelspec": {
   "display_name": "Python 3",
   "language": "python",
   "name": "python3"
  },
  "language_info": {
   "codemirror_mode": {
    "name": "ipython",
    "version": 3
   },
   "file_extension": ".py",
   "mimetype": "text/x-python",
   "name": "python",
   "nbconvert_exporter": "python",
   "pygments_lexer": "ipython3",
   "version": "3.7.3"
  }
 },
 "nbformat": 4,
 "nbformat_minor": 4
}
